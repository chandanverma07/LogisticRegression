{
 "cells": [
  {
   "cell_type": "code",
   "execution_count": 2,
   "id": "0975a56e",
   "metadata": {},
   "outputs": [],
   "source": [
    "import numpy as np \n",
    "import pandas as pd \n",
    "import seaborn as sb\n",
    "from matplotlib import pyplot as plt"
   ]
  },
  {
   "cell_type": "code",
   "execution_count": 4,
   "id": "3edb1a0a",
   "metadata": {},
   "outputs": [],
   "source": [
    "data=pd.read_csv(r\"C:\\Users\\Shubh_Ram\\Dropbox\\My PC (LAPTOP-F3BSREE1)\\Desktop\\Online_ML_DataSets\\healthcare-dataset-stroke-data.csv\")"
   ]
  },
  {
   "cell_type": "code",
   "execution_count": 7,
   "id": "a40ba155",
   "metadata": {},
   "outputs": [
    {
     "data": {
      "text/plain": [
       "(5110, 12)"
      ]
     },
     "execution_count": 7,
     "metadata": {},
     "output_type": "execute_result"
    }
   ],
   "source": [
    "data.shape"
   ]
  },
  {
   "cell_type": "code",
   "execution_count": 8,
   "id": "70a680cc",
   "metadata": {},
   "outputs": [
    {
     "data": {
      "text/html": [
       "<div>\n",
       "<style scoped>\n",
       "    .dataframe tbody tr th:only-of-type {\n",
       "        vertical-align: middle;\n",
       "    }\n",
       "\n",
       "    .dataframe tbody tr th {\n",
       "        vertical-align: top;\n",
       "    }\n",
       "\n",
       "    .dataframe thead th {\n",
       "        text-align: right;\n",
       "    }\n",
       "</style>\n",
       "<table border=\"1\" class=\"dataframe\">\n",
       "  <thead>\n",
       "    <tr style=\"text-align: right;\">\n",
       "      <th></th>\n",
       "      <th>id</th>\n",
       "      <th>gender</th>\n",
       "      <th>age</th>\n",
       "      <th>hypertension</th>\n",
       "      <th>heart_disease</th>\n",
       "      <th>ever_married</th>\n",
       "      <th>work_type</th>\n",
       "      <th>Residence_type</th>\n",
       "      <th>avg_glucose_level</th>\n",
       "      <th>bmi</th>\n",
       "      <th>smoking_status</th>\n",
       "      <th>stroke</th>\n",
       "    </tr>\n",
       "  </thead>\n",
       "  <tbody>\n",
       "    <tr>\n",
       "      <th>0</th>\n",
       "      <td>9046</td>\n",
       "      <td>Male</td>\n",
       "      <td>67.0</td>\n",
       "      <td>0</td>\n",
       "      <td>1</td>\n",
       "      <td>Yes</td>\n",
       "      <td>Private</td>\n",
       "      <td>Urban</td>\n",
       "      <td>228.69</td>\n",
       "      <td>36.6</td>\n",
       "      <td>formerly smoked</td>\n",
       "      <td>1</td>\n",
       "    </tr>\n",
       "  </tbody>\n",
       "</table>\n",
       "</div>"
      ],
      "text/plain": [
       "     id gender   age  hypertension  heart_disease ever_married work_type  \\\n",
       "0  9046   Male  67.0             0              1          Yes   Private   \n",
       "\n",
       "  Residence_type  avg_glucose_level   bmi   smoking_status  stroke  \n",
       "0          Urban             228.69  36.6  formerly smoked       1  "
      ]
     },
     "execution_count": 8,
     "metadata": {},
     "output_type": "execute_result"
    }
   ],
   "source": [
    "data.head(1)"
   ]
  },
  {
   "cell_type": "code",
   "execution_count": 13,
   "id": "23ed2a9f",
   "metadata": {},
   "outputs": [],
   "source": [
    "X_feature=data.drop('stroke',axis=1)\n",
    "y_target=data[\"stroke\"]"
   ]
  },
  {
   "cell_type": "code",
   "execution_count": 15,
   "id": "10e0cc92",
   "metadata": {},
   "outputs": [],
   "source": [
    "X_feature.drop(\"id\",axis=1,inplace=True)"
   ]
  },
  {
   "cell_type": "code",
   "execution_count": 21,
   "id": "6bf9b7e6",
   "metadata": {},
   "outputs": [],
   "source": [
    "#X_feature.info()"
   ]
  },
  {
   "cell_type": "code",
   "execution_count": 22,
   "id": "bfc3f3b0",
   "metadata": {},
   "outputs": [],
   "source": [
    "#X_feature.isna().sum()"
   ]
  },
  {
   "cell_type": "code",
   "execution_count": 23,
   "id": "2165cb9f",
   "metadata": {},
   "outputs": [],
   "source": [
    "# filling null values in 'bmi' column in data\n",
    "\n",
    "X_feature['bmi'].fillna(X_feature['bmi'].mean(), inplace = True)"
   ]
  },
  {
   "cell_type": "code",
   "execution_count": 26,
   "id": "e29fc1b6",
   "metadata": {},
   "outputs": [],
   "source": [
    "#X_feature.isna().sum()"
   ]
  },
  {
   "cell_type": "code",
   "execution_count": 27,
   "id": "bbab5d7e",
   "metadata": {},
   "outputs": [],
   "source": [
    "X_feature.drop('ever_married', axis = 1, inplace = True)"
   ]
  },
  {
   "cell_type": "code",
   "execution_count": 61,
   "id": "85d68ff7",
   "metadata": {},
   "outputs": [],
   "source": [
    "#X_feature.head()"
   ]
  },
  {
   "cell_type": "raw",
   "id": "54806b65",
   "metadata": {},
   "source": [
    "fig, ax = plt.subplots(figsize = (8, 8))\n",
    "sb.boxplot(data = X_feature, palette = 'Set2')\n",
    "plt.show();"
   ]
  },
  {
   "cell_type": "code",
   "execution_count": 32,
   "id": "37af87ff",
   "metadata": {},
   "outputs": [],
   "source": [
    "X_feature_knn=X_feature"
   ]
  },
  {
   "cell_type": "code",
   "execution_count": 35,
   "id": "0e7c6f6d",
   "metadata": {},
   "outputs": [],
   "source": [
    "X_feature_knn=pd.get_dummies(X_feature_knn)"
   ]
  },
  {
   "cell_type": "code",
   "execution_count": 36,
   "id": "6a8e7b05",
   "metadata": {},
   "outputs": [],
   "source": [
    "from sklearn.model_selection import train_test_split"
   ]
  },
  {
   "cell_type": "code",
   "execution_count": 37,
   "id": "a23632c6",
   "metadata": {},
   "outputs": [],
   "source": [
    "Xtrain,Xtest,Ytrain,Ytest=train_test_split(X_feature_knn,y_target,test_size=.30,random_state=101)"
   ]
  },
  {
   "cell_type": "code",
   "execution_count": 38,
   "id": "fccb4b1f",
   "metadata": {},
   "outputs": [],
   "source": [
    "# Implemeting knn"
   ]
  },
  {
   "cell_type": "code",
   "execution_count": 45,
   "id": "a1144f53",
   "metadata": {},
   "outputs": [],
   "source": [
    "from sklearn.linear_model import LogisticRegression\n",
    "from sklearn.neighbors import KNeighborsClassifier\n",
    "from sklearn.metrics import accuracy_score"
   ]
  },
  {
   "cell_type": "code",
   "execution_count": 44,
   "id": "5aa1d90b",
   "metadata": {},
   "outputs": [],
   "source": [
    "\n",
    "k=int(np.sqrt(len(Xtrain)))+1\n",
    "k_value=list(range(1,k))"
   ]
  },
  {
   "cell_type": "code",
   "execution_count": 48,
   "id": "f47a7e9a",
   "metadata": {},
   "outputs": [],
   "source": [
    "list_acc=[]\n",
    "for i in k_value:\n",
    "    knn_model=KNeighborsClassifier(n_neighbors=i)\n",
    "    knn_model=knn_model.fit(Xtrain,Ytrain)\n",
    "    Yp=knn_model.predict(Xtest)\n",
    "    acc=accuracy_score(Yp,Ytest)\n",
    "    list_acc.append(acc)\n",
    "    #print(\"acc is {} at k ={}\".format(acc,i))\n",
    "    "
   ]
  },
  {
   "cell_type": "code",
   "execution_count": 51,
   "id": "9ffdc81a",
   "metadata": {},
   "outputs": [
    {
     "data": {
      "text/plain": [
       "9"
      ]
     },
     "execution_count": 51,
     "metadata": {},
     "output_type": "execute_result"
    }
   ],
   "source": [
    "import numpy as np\n",
    "list_arr=np.array(list_acc)\n",
    "list_arr.argmax()"
   ]
  },
  {
   "cell_type": "code",
   "execution_count": 57,
   "id": "3eee94b2",
   "metadata": {},
   "outputs": [
    {
     "name": "stdout",
     "output_type": "stream",
     "text": [
      "Max acc is 0.9432485322896281 at k =9\n"
     ]
    }
   ],
   "source": [
    "print(\"Max acc is {} at k ={}\".format(list_arr[list_arr.argmax()],list_arr.argmax()))"
   ]
  },
  {
   "cell_type": "code",
   "execution_count": 60,
   "id": "83708f39",
   "metadata": {},
   "outputs": [
    {
     "data": {
      "image/png": "[encoded data removed]",
      "text/plain": [
       "<Figure size 432x288 with 1 Axes>"
      ]
     },
     "metadata": {
      "needs_background": "light"
     },
     "output_type": "display_data"
    }
   ],
   "source": [
    "plt.plot(k_value,list_acc,'rx-')\n",
    "plt.plot(k_value,list_acc,'g')\n",
    "plt.xlabel(\"K...value\")\n",
    "plt.ylabel(\"Acc\")\n",
    "plt.show()"
   ]
  },
  {
   "cell_type": "code",
   "execution_count": 63,
   "id": "636e909c",
   "metadata": {},
   "outputs": [
    {
     "name": "stderr",
     "output_type": "stream",
     "text": [
      "C:\\Users\\Shubh_Ram\\anaconda3\\lib\\site-packages\\sklearn\\linear_model\\_logistic.py:763: ConvergenceWarning: lbfgs failed to converge (status=1):\n",
      "STOP: TOTAL NO. of ITERATIONS REACHED LIMIT.\n",
      "\n",
      "Increase the number of iterations (max_iter) or scale the data as shown in:\n",
      "    https://scikit-learn.org/stable/modules/preprocessing.html\n",
      "Please also refer to the documentation for alternative solver options:\n",
      "    https://scikit-learn.org/stable/modules/linear_model.html#logistic-regression\n",
      "  n_iter_i = _check_optimize_result(\n"
     ]
    }
   ],
   "source": [
    "model_lr=LogisticRegression()\n",
    "model_lr=model_lr.fit(Xtrain,Ytrain)"
   ]
  },
  {
   "cell_type": "code",
   "execution_count": 65,
   "id": "178f5143",
   "metadata": {},
   "outputs": [],
   "source": [
    "Yp_lr=model_lr.predict(Xtest)"
   ]
  },
  {
   "cell_type": "code",
   "execution_count": 67,
   "id": "fb3442c3",
   "metadata": {},
   "outputs": [],
   "source": [
    "acc_lr=accuracy_score(Yp_lr,Ytest)*100"
   ]
  },
  {
   "cell_type": "code",
   "execution_count": 68,
   "id": "e558ea02",
   "metadata": {},
   "outputs": [
    {
     "data": {
      "text/plain": [
       "94.3900848010437"
      ]
     },
     "execution_count": 68,
     "metadata": {},
     "output_type": "execute_result"
    }
   ],
   "source": [
    "acc_lr"
   ]
  },
  {
   "cell_type": "code",
   "execution_count": null,
   "id": "abd5a305",
   "metadata": {},
   "outputs": [],
   "source": []
  }
 ],
 "metadata": {
  "kernelspec": {
   "display_name": "Python 3",
   "language": "python",
   "name": "python3"
  },
  "language_info": {
   "codemirror_mode": {
    "name": "ipython",
    "version": 3
   },
   "file_extension": ".py",
   "mimetype": "text/x-python",
   "name": "python",
   "nbconvert_exporter": "python",
   "pygments_lexer": "ipython3",
   "version": "3.8.8"
  }
 },
 "nbformat": 4,
 "nbformat_minor": 5
}
